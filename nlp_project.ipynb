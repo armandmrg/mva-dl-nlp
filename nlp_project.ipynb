{
 "cells": [
  {
   "cell_type": "markdown",
   "metadata": {},
   "source": [
    "# Deep Learning for NLP - Project"
   ]
  },
  {
   "cell_type": "markdown",
   "metadata": {},
   "source": [
    "RULES:\n",
    "\n",
    "* Do not create any additional cell\n",
    "\n",
    "* Fill in the blanks\n",
    "\n",
    "* All cells should be runnable (modulo trivial compatibility bugs that we'd fix)\n",
    "\n",
    "* 4 / 20 points will be allocated to the clarity of your code\n",
    "\n",
    "* Efficient code will have a bonus\n",
    "\n",
    "DELIVERABLE:\n",
    "\n",
    "* the pdf with your answers\n",
    "* this notebook\n",
    "* the predictions of the SST test set\n",
    "\n",
    "DO NOT INCLUDE THE DATASETS IN THE DELIVERABLE.."
   ]
  },
  {
   "cell_type": "code",
   "execution_count": 2,
   "metadata": {
    "jupyter": {
     "outputs_hidden": false
    }
   },
   "outputs": [],
   "source": [
    "# Python 3.6 or above is required\n",
    "from collections import defaultdict\n",
    "import gzip\n",
    "import numpy as np\n",
    "from pathlib import Path\n",
    "from urllib.request import urlretrieve\n",
    "\n",
    "import difflib\n",
    "import re\n",
    "import numpy as np"
   ]
  },
  {
   "cell_type": "code",
   "execution_count": 3,
   "metadata": {},
   "outputs": [],
   "source": [
    "PATH_TO_DATA = Path('C:/Users/Armand/Desktop/3A/Deep Learning/nlp_project/nlp_project/')\n",
    "# Download word vectors, might take a few minutes and about ~3GB of storage space\n",
    "en_embeddings_path = PATH_TO_DATA / 'cc.en.300.vec.gz'\n",
    "if not en_embeddings_path.exists():\n",
    "    urlretrieve('https://dl.fbaipublicfiles.com/fasttext/vectors-crawl/cc.en.300.vec.gz', en_embeddings_path)\n",
    "fr_embeddings_path = PATH_TO_DATA / 'cc.fr.300.vec.gz'\n",
    "if not fr_embeddings_path.exists():\n",
    "    urlretrieve('https://dl.fbaipublicfiles.com/fasttext/vectors-crawl/cc.fr.300.vec.gz', fr_embeddings_path)"
   ]
  },
  {
   "cell_type": "markdown",
   "metadata": {},
   "source": [
    "# 1) Monolingual (English) word embeddings "
   ]
  },
  {
   "cell_type": "code",
   "execution_count": 4,
   "metadata": {},
   "outputs": [],
   "source": [
    "class Word2Vec():\n",
    "\n",
    "    def __init__(self, filepath, vocab_size=50000):\n",
    "        self.words, self.embeddings = self.load_wordvec(filepath, vocab_size)\n",
    "        # Mappings for O(1) retrieval:\n",
    "        self.word2id = {word: idx for idx, word in enumerate(self.words)}\n",
    "        self.id2word = {idx: word for idx, word in enumerate(self.words)}\n",
    "    \n",
    "    def load_wordvec(self, filepath, vocab_size):\n",
    "        assert str(filepath).endswith('.gz')\n",
    "        words = []\n",
    "        embeddings = []\n",
    "        with gzip.open(filepath, 'rt',encoding=\"utf8\") as f:  # Read compressed file directly\n",
    "            next(f)  # Skip header\n",
    "            for i, line in enumerate(f):\n",
    "                word, vec = line.split(' ', 1)\n",
    "                words.append(word)\n",
    "                embeddings.append(np.fromstring(vec, sep=' '))\n",
    "                if i == (vocab_size - 1):\n",
    "                    break\n",
    "        print('Loaded %s pretrained word vectors' % (len(words)))\n",
    "        return words, np.vstack(embeddings)\n",
    "    \n",
    "    def encode(self, word):\n",
    "        # Returns the 1D embedding of a given word\n",
    "        #return self.embeddings[self.word2id[word]]\n",
    "        try:\n",
    "            i = self.word2id[word]\n",
    "            return self.embeddings[i]\n",
    "        except:\n",
    "            try:\n",
    "                word = difflib.get_close_matches(word, self.words)[0]\n",
    "                i = self.word2id[word]\n",
    "            except:\n",
    "                return 0\n",
    "        return self.embeddings[i]\n",
    "    \n",
    "    def score(self, word1, word2):\n",
    "        # Return the cosine similarity: use np.dot & np.linalg.norm\n",
    "        code1=self.encode(word1)\n",
    "        code2=self.encode(word2)\n",
    "        return np.dot(code1,code2)/(np.linalg.norm(code1)*np.linalg.norm(code2))\n",
    "    \n",
    "    def most_similar(self, word, k=5):\n",
    "        # Returns the k most similar words: self.score & np.argsort \n",
    "        \n",
    "        scores=[] #list of index and scores\n",
    "        for index,w2 in enumerate(self.words):\n",
    "            scores.append((self.score(word,w2),index))\n",
    "        sorted_scores=sorted(scores,reverse = True)\n",
    "        k_similar_index=[s[1] for s in sorted_scores[:k]]\n",
    "        k_similar_words=[self.words[i] for i in k_similar_index]\n",
    "        return k_similar_words"
   ]
  },
  {
   "cell_type": "code",
   "execution_count": 4,
   "metadata": {
    "jupyter": {
     "outputs_hidden": false
    }
   },
   "outputs": [
    {
     "name": "stdout",
     "output_type": "stream",
     "text": [
      "Loaded 50000 pretrained word vectors\n",
      "cat tree 0.26449754661654756\n",
      "cat dog 0.7078641298542564\n",
      "cat pet 0.6753313359976382\n",
      "Paris France 0.6892958925806543\n",
      "Paris Germany 0.4051242286737549\n",
      "Paris baguette 0.29399958277802224\n",
      "Paris donut -0.006588507552348003\n",
      "['cat', 'cats', 'kitty', 'kitten', 'feline']\n",
      "['dog', 'dogs', 'puppy', 'pup', 'canine']\n",
      "['dogs', 'dog', 'cats', 'puppies', 'Dogs']\n",
      "['Paris', 'France', 'Parisian', 'Marseille', 'Brussels']\n",
      "['Germany', 'Austria', 'Europe', 'Berlin', 'Hamburg']\n"
     ]
    }
   ],
   "source": [
    "word2vec = Word2Vec(en_embeddings_path, vocab_size=50000)\n",
    "\n",
    "# You will be evaluated on the output of the following:\n",
    "for word1, word2 in zip(('cat', 'cat', 'cat', 'Paris', 'Paris', 'Paris', 'Paris'), ('tree', 'dog', 'pet', 'France', 'Germany', 'baguette', 'donut')):\n",
    "    print(word1, word2, word2vec.score(word1, word2))\n",
    "for word in ['cat', 'dog', 'dogs', 'Paris', 'Germany']:\n",
    "    print(word2vec.most_similar(word))"
   ]
  },
  {
   "cell_type": "code",
   "execution_count": 5,
   "metadata": {
    "jupyter": {
     "outputs_hidden": false
    }
   },
   "outputs": [],
   "source": [
    "class BagOfWords():\n",
    "    def __init__(self, word2vec):\n",
    "        self.word2vec = word2vec\n",
    "    \n",
    "    def build_idf(self, sentences):\n",
    "        # build the idf dictionary: associate each word to its idf value\n",
    "        # -> idf = {word: idf_value, ...}\n",
    "        idf={}\n",
    "        N=len(sentences)\n",
    "        \n",
    "        # get number of documents containing each word\n",
    "        for sentence in sentences:\n",
    "            wordsList=re.sub(\"[^\\w]\", \" \",sentence).split()\n",
    "            for word in set(wordsList):\n",
    "                idf[word]=idf.get(word, 0)+1\n",
    "                \n",
    "        #transform to get idf value of each word       \n",
    "        for word in idf:\n",
    "            idf[word]=np.log10(N/idf[word])\n",
    "        return idf\n",
    "        \n",
    "    \n",
    "    def encode(self, sentence, idf=None):\n",
    "        # Takes a sentence as input, returns the sentence embedding\n",
    "        wordsList=re.sub(\"[^\\w]\", \" \",sentence).split()\n",
    "        wordsVectors=[self.word2vec.encode(word) for word in wordsList]\n",
    "        if idf is None:\n",
    "            # mean of word vectors\n",
    "            return np.mean(wordsVectors,axis=0)\n",
    "        else:\n",
    "            # idf-weighted mean of word vectors\n",
    "            weightedMean=0\n",
    "            sumIdf=0\n",
    "            for i,word in enumerate(wordsList):\n",
    "                weightedMean+=idf.get(word,0)*wordsVectors[i]\n",
    "                sumIdf+=idf.get(word,0)\n",
    "            weightedMean=weightedMean/sumIdf\n",
    "            return weightedMean\n",
    "                                \n",
    "\n",
    "    def score(self, sentence1, sentence2, idf=None):\n",
    "        # cosine similarity: use np.dot & np.linalg.norm \n",
    "        code1=self.encode(sentence1,idf)\n",
    "        code2=self.encode(sentence2,idf)\n",
    "        return np.dot(code1,code2)/(np.linalg.norm(code1)*np.linalg.norm(code2))\n",
    "    \n",
    "    def most_similar(self, sentence, sentences, idf=None, k=5):\n",
    "        # Return most similar sentences\n",
    "        scores=[]\n",
    "        for sentence2 in sentences:\n",
    "            scores.append(self.score(sentence,sentence2,idf))\n",
    "            #see progression\n",
    "            if len(scores)%10000==0:\n",
    "                print(round(100*len(scores)/len(sentences)),\"% of scores computed\")\n",
    "        k_similar_index = np.argpartition(np.array(scores), -k)[-k:]\n",
    "        k_similar_index = k_similar_index[np.argsort([-scores[i] for i in k_similar_index])]\n",
    "        k_similar_sentences=[sentences[i] for i in k_similar_index]\n",
    "        return k_similar_sentences"
   ]
  },
  {
   "cell_type": "code",
   "execution_count": 91,
   "metadata": {
    "jupyter": {
     "outputs_hidden": false
    }
   },
   "outputs": [
    {
     "name": "stdout",
     "output_type": "stream",
     "text": [
      "Loaded 50000 pretrained word vectors\n",
      "\n",
      "\tAverage of word embeddings\n",
      "1 man singing and 1 man playing a saxophone in a concert . \n",
      "10 people venture out to go crosscountry skiing . \n",
      "0.6415914630303108\n",
      "7 % of scores computed\n",
      "13 % of scores computed\n",
      "20 % of scores computed\n",
      "27 % of scores computed\n",
      "33 % of scores computed\n",
      "40 % of scores computed\n",
      "46 % of scores computed\n",
      "53 % of scores computed\n",
      "60 % of scores computed\n",
      "66 % of scores computed\n",
      "73 % of scores computed\n",
      "80 % of scores computed\n",
      "86 % of scores computed\n",
      "93 % of scores computed\n",
      "100 % of scores computed\n",
      "1 smiling african american boy . \n",
      "1) 1 smiling african american boy . \n",
      "2) 2 woman dancing while pointing . \n",
      "3) 5 women and 1 man are smiling for the camera . \n",
      "4) 3 males and 1 woman enjoying a sporting event \n",
      "5) 2 chinese people wearing traditional clothes \n",
      "\n",
      "\tidf weighted average of word embeddings\n",
      "1 man singing and 1 man playing a saxophone in a concert . \n",
      "10 people venture out to go crosscountry skiing . \n",
      "0.6366631124436564\n",
      "7 % of scores computed\n",
      "13 % of scores computed\n",
      "20 % of scores computed\n",
      "27 % of scores computed\n",
      "33 % of scores computed\n",
      "40 % of scores computed\n",
      "46 % of scores computed\n",
      "53 % of scores computed\n",
      "60 % of scores computed\n",
      "66 % of scores computed\n",
      "73 % of scores computed\n",
      "80 % of scores computed\n",
      "86 % of scores computed\n",
      "93 % of scores computed\n",
      "100 % of scores computed\n",
      "2 chinese people wearing traditional clothes \n",
      "1) 2 chinese people wearing traditional clothes \n",
      "2) 5 children , 2 boys and 3 girls , share food while sitting outside of a building . \n",
      "3) 2 women in red outfits and 3 other people are standing at a street corner . \n",
      "4) 2 white ladies in casual clothing . \n",
      "5) 3 men in tuxedos and 2 women in dresses , sleeping on the grass . \n"
     ]
    }
   ],
   "source": [
    "word2vec = Word2Vec(en_embeddings_path, vocab_size=50000)\n",
    "sentence2vec = BagOfWords(word2vec)\n",
    "\n",
    "# Load sentences in \"PATH_TO_DATA/sentences.txt\"\n",
    "filepath = PATH_TO_DATA / 'sentences.txt'\n",
    "with open(filepath, 'r') as f:\n",
    "    sentences = [line.strip('\\n') for line in f]\n",
    "\n",
    "\n",
    "# You will be evaluated on the output of the following:\n",
    "print('\\n\\tAverage of word embeddings')\n",
    "sentence1 = sentences[7]\n",
    "sentence2 = sentences[13]\n",
    "print(sentence1)\n",
    "print(sentence2)\n",
    "print(sentence2vec.score(sentence1, sentence2))\n",
    "sentence = sentences[10]\n",
    "similar_sentences = sentence2vec.most_similar(sentence, sentences)  # BagOfWords-mean\n",
    "print(sentence)\n",
    "for i, sentence in enumerate(similar_sentences):\n",
    "    print(str(i+1) + ')', sentence)\n",
    "\n",
    "# Build idf scores for each word\n",
    "idf = sentence2vec.build_idf(sentences)\n",
    "\n",
    "print('\\n\\tidf weighted average of word embeddings')\n",
    "print(sentence1)\n",
    "print(sentence2)\n",
    "print(sentence2vec.score(sentence1, sentence2, idf))\n",
    "similar_sentences = sentence2vec.most_similar(sentence, sentences, idf)  # BagOfWords-idf\n",
    "print(sentence)\n",
    "for i, sentence in enumerate(similar_sentences):\n",
    "    print(str(i+1) + ')', sentence)"
   ]
  },
  {
   "cell_type": "markdown",
   "metadata": {},
   "source": [
    "# 2) Multilingual (English-French) word embeddings"
   ]
  },
  {
   "cell_type": "markdown",
   "metadata": {},
   "source": [
    "Let's consider a bilingual dictionary of size V_a (e.g French-English).\n",
    "\n",
    "Let's define **X** and **Y** the **French** and **English** matrices.\n",
    "\n",
    "They contain the embeddings associated to the words in the bilingual dictionary.\n",
    "\n",
    "We want to find a **mapping W** that will project the source word space (e.g French) to the target word space (e.g English).\n",
    "\n",
    "Procrustes : **W\\* = argmin || W.X - Y ||  s.t  W^T.W = Id**\n",
    "has a closed form solution:\n",
    "**W = U.V^T  where  U.Sig.V^T = SVD(Y.X^T)**\n",
    "\n",
    "In what follows, you are asked to: "
   ]
  },
  {
   "cell_type": "code",
   "execution_count": 6,
   "metadata": {},
   "outputs": [],
   "source": [
    "class MultilingualWordAligner:\n",
    "    \n",
    "    def __init__(self, fr_word2vec, en_word2vec):\n",
    "        self.fr_word2vec = fr_word2vec\n",
    "        self.en_word2vec = en_word2vec\n",
    "        self.aligned_fr_embeddings = self.get_aligned_fr_embeddings()\n",
    "        \n",
    "    def get_aligned_fr_embeddings(self):\n",
    "        # 1 - Get words that appear in both vocabs (= identical character strings)\n",
    "        #     Use it to create the matrix X (emb_dim, vocab_size) and Y (emb_dim, vocab_size) (of embeddings for these words)\n",
    "        X=[]\n",
    "        Y=[]\n",
    "        for word in self.fr_word2vec.words:\n",
    "            if word in self.en_word2vec.words:\n",
    "                if len(X)>0:\n",
    "                    X=np.hstack((X,np.array([self.fr_word2vec.encode(word)]).T))\n",
    "                    Y=np.hstack((Y,np.array([self.en_word2vec.encode(word)]).T))\n",
    "                else:\n",
    "                    X=np.array([self.fr_word2vec.encode(word)]).T\n",
    "                    Y=np.array([self.en_word2vec.encode(word)]).T\n",
    "        assert X.shape[0] == 300 and Y.shape[0] == 300\n",
    "        \n",
    "        # 2 - Solve the Procrustes using the numpy package and: np.linalg.svd() and get the optimal W\n",
    "        #     Now self.fr_word2vec.embeddings * W.transpose() is in the same space as en_word2vec.embeddings\n",
    "        U, s, Vt=np.linalg.svd(np.dot(Y,X.T))\n",
    "        W=np.dot(U,Vt)\n",
    "        assert W.shape == (300, 300)\n",
    "        return np.matmul(fr_word2vec.embeddings, W.transpose())\n",
    "        \n",
    "    def get_closest_english_words(self, fr_word, k=3):\n",
    "        # 3 - Return the top k English nearest neighbors to the input French word\n",
    "        #fr_word_emb = self.fr_word2vec.encode(fr_word)\n",
    "        #en_word_emb = np.dot(W,fr_word_emb.T)\n",
    "        en_word_emb=self.aligned_fr_embeddings[self.fr_word2vec.word2id[fr_word]]\n",
    "        \n",
    "        scores=[] #list of index and scores\n",
    "        for index,en_word2_emb in enumerate(self.en_word2vec.embeddings):\n",
    "            score=np.dot(en_word_emb,en_word2_emb)/(np.linalg.norm(en_word_emb)*np.linalg.norm(en_word2_emb))\n",
    "            scores.append((score,index))\n",
    "        sorted_scores=sorted(scores,reverse = True)\n",
    "        k_similar_index=[s[1] for s in sorted_scores[:k]]\n",
    "        k_similar_words=[self.en_word2vec.words[i] for i in k_similar_index]\n",
    "        return k_similar_words"
   ]
  },
  {
   "cell_type": "code",
   "execution_count": 44,
   "metadata": {},
   "outputs": [
    {
     "name": "stdout",
     "output_type": "stream",
     "text": [
      "Loaded 50000 pretrained word vectors\n",
      "Loaded 50000 pretrained word vectors\n",
      "----------\n",
      "fr: \"chat\"\n",
      "en: \"cat\"\n",
      "en: \"kitten\"\n",
      "en: \"kitty\"\n",
      "----------\n",
      "fr: \"chien\"\n",
      "en: \"dog\"\n",
      "en: \"cat\"\n",
      "en: \"pet\"\n",
      "----------\n",
      "fr: \"voiture\"\n",
      "en: \"car\"\n",
      "en: \"vehicle\"\n",
      "en: \"automobile\"\n",
      "----------\n",
      "fr: \"zut\"\n",
      "en: \"oops\"\n",
      "en: \"Ah\"\n",
      "en: \"ah\"\n"
     ]
    }
   ],
   "source": [
    "fr_word2vec = Word2Vec(fr_embeddings_path, vocab_size=50000)\n",
    "en_word2vec = Word2Vec(en_embeddings_path, vocab_size=50000)\n",
    "multilingual_word_aligner = MultilingualWordAligner(fr_word2vec, en_word2vec)\n",
    "\n",
    "# You will be evaluated on the output of the following:\n",
    "fr_words = ['chat', 'chien', 'voiture', 'zut']\n",
    "k = 3\n",
    "for fr_word in fr_words:\n",
    "    print('-' * 10)\n",
    "    print(f'fr: \"{fr_word}\"')\n",
    "    en_words = multilingual_word_aligner.get_closest_english_words(fr_word, k=3)\n",
    "    for en_word in en_words:\n",
    "        print(f'en: \"{en_word}\"')"
   ]
  },
  {
   "cell_type": "markdown",
   "metadata": {},
   "source": [
    "If you want to dive deeper on this subject: https://github.com/facebookresearch/MUSE"
   ]
  },
  {
   "cell_type": "markdown",
   "metadata": {},
   "source": [
    "# 3) Sentence classification with BoV and scikit-learn"
   ]
  },
  {
   "cell_type": "code",
   "execution_count": 7,
   "metadata": {},
   "outputs": [],
   "source": [
    "# 1 - Load train/dev/test of Stanford Sentiment TreeBank (SST)\n",
    "#     (https://nlp.stanford.edu/~socherr/EMNLP2013_RNTN.pdf)\n",
    "train_filepath ='SST/stsa.fine.train'\n",
    "dev_filepath ='SST/stsa.fine.dev'\n",
    "test_filepath ='SST/stsa.fine.test.X'\n",
    "\n",
    "def read_file(path,is_test=False):\n",
    "    with open(path, \"r\") as p:\n",
    "        if is_test==False:\n",
    "            lines = p.read().split(\"\\n\")[:-1]\n",
    "            labels = np.array([int(line[0]) for line in lines])\n",
    "            sentences = [line[2:] for line in lines]\n",
    "            return sentences, labels\n",
    "        else:\n",
    "            sentences = p.read().split(\"\\n\")[:-1]\n",
    "            return sentences\n",
    "\n",
    "train_sentences=read_file(train_filepath)[0]\n",
    "train_labels=read_file(train_filepath)[1]\n",
    "dev_sentences=read_file(dev_filepath)[0]\n",
    "dev_labels=read_file(dev_filepath)[1]\n",
    "test_sentences=read_file(test_filepath,is_test=True)"
   ]
  },
  {
   "cell_type": "code",
   "execution_count": 92,
   "metadata": {
    "scrolled": true
   },
   "outputs": [
    {
     "name": "stdout",
     "output_type": "stream",
     "text": [
      "Loaded 50000 pretrained word vectors\n"
     ]
    },
    {
     "name": "stderr",
     "output_type": "stream",
     "text": [
      "C:\\Users\\Armand\\Anaconda3\\lib\\site-packages\\ipykernel_launcher.py:37: RuntimeWarning: invalid value encountered in true_divide\n"
     ]
    }
   ],
   "source": [
    "# 2 - Encode sentences with the BoV model above\n",
    "\n",
    "word2vec = Word2Vec(en_embeddings_path, vocab_size=50000)\n",
    "sentence2vec = BagOfWords(word2vec)\n",
    "\n",
    "#idf weighted embeddings\n",
    "idf = sentence2vec.build_idf(train_sentences+dev_sentences)\n",
    "train_sentences_emb=[sentence2vec.encode(train_sentences[i],idf) for i in range(len(train_sentences))]\n",
    "dev_sentences_emb=[sentence2vec.encode(dev_sentences[i],idf) for i in range(len(dev_sentences))]\n",
    "test_sentences_emb=[sentence2vec.encode(test_sentences[i],idf) for i in range(len(test_sentences))]\n",
    "\n",
    "#mean of words embeddings\n",
    "train_sentences_mean_emb=[sentence2vec.encode(train_sentences[i]) for i in range(len(train_sentences))]\n",
    "dev_sentences_mean_emb=[sentence2vec.encode(dev_sentences[i]) for i in range(len(dev_sentences))]\n",
    "test_sentences_mean_emb=[sentence2vec.encode(test_sentences[i]) for i in range(len(test_sentences))]"
   ]
  },
  {
   "cell_type": "code",
   "execution_count": 115,
   "metadata": {},
   "outputs": [
    {
     "name": "stdout",
     "output_type": "stream",
     "text": [
      "Results for idf-weighted BoW: \n",
      " Best value for the penalty: 10.0 \n",
      " Dev accuracy: 0.3923705722070845 \n",
      " Train accuracy: 0.4648876404494382\n",
      "Results for mean BoW: \n",
      " Best value for the penalty: 10.0 \n",
      " Dev accuracy: 0.3941871026339691 \n",
      " Train accuracy: 0.4598548689138577\n"
     ]
    }
   ],
   "source": [
    "# 3 - Learn Logistic Regression on top of sentence embeddings using scikit-learn\n",
    "#     (consider tuning the L2 regularization on the dev set)\n",
    "#     In the paper, the accuracy for average of word vectors is 32.7%\n",
    "#     (VecAvg, table 1, https://nlp.stanford.edu/~socherr/EMNLP2013_RNTN.pdf)\n",
    "\n",
    "from sklearn.linear_model import LogisticRegression\n",
    "\n",
    "#idf weighted embeddings\n",
    "train_acc,dev_acc=[],[]\n",
    "pen_values = 10.0**(np.arange(-2,2,0.5))\n",
    "\n",
    "for pen in pen_values:\n",
    "    logReg = LogisticRegression(penalty=\"l2\",C = pen,multi_class='auto',solver='newton-cg')\n",
    "    logReg.fit(train_sentences_emb, train_labels)\n",
    "    train_acc.append(logReg.score(train_sentences_emb, train_labels))\n",
    "    dev_acc.append(logReg.score(dev_sentences_emb, dev_labels))\n",
    "\n",
    "best_pen=pen_values[np.argmax(dev_acc)]\n",
    "best_train_acc=train_acc[np.argmax(dev_acc)]\n",
    "best_dev_acc=max(dev_acc)\n",
    "\n",
    "print(\"Results for idf-weighted BoW: \\n\",\"Best value for the penalty:\",best_pen,'\\n Dev accuracy:',best_dev_acc,'\\n Train accuracy:',best_train_acc)\n",
    "\n",
    "#mean of words embeddings\n",
    "train_acc,dev_acc=[],[]\n",
    "\n",
    "for pen in pen_values:\n",
    "    logReg = LogisticRegression(penalty=\"l2\",C = pen, multi_class='auto',solver='newton-cg')\n",
    "    logReg.fit(train_sentences_mean_emb, train_labels)\n",
    "    train_acc.append(logReg.score(train_sentences_mean_emb, train_labels))\n",
    "    dev_acc.append(logReg.score(dev_sentences_mean_emb, dev_labels))\n",
    "\n",
    "best_pen=pen_values[np.argmax(dev_acc)]\n",
    "best_train_acc=train_acc[np.argmax(dev_acc)]\n",
    "best_dev_acc=max(dev_acc)\n",
    "\n",
    "print(\"Results for mean BoW: \\n\",\"Best value for the penalty:\",best_pen,'\\n Dev accuracy:',best_dev_acc,'\\n Train accuracy:',best_train_acc)"
   ]
  },
  {
   "cell_type": "code",
   "execution_count": 108,
   "metadata": {},
   "outputs": [],
   "source": [
    "# 4 - Produce 2210 predictions for the test set (in the same order). One line = one prediction (=0,1,2,3,4).\n",
    "#     Attach the output file \"logreg_bov_y_test_sst.txt\" to your deliverable.\n",
    "#     You will be evaluated on the results of the test set.\n",
    "\n",
    "#train our best model on all the data\n",
    "logReg = LogisticRegression(penalty=\"l2\",C = best_pen, multi_class='auto',solver='newton-cg')\n",
    "logReg.fit(train_sentences_mean_emb+dev_sentences_mean_emb, list(train_labels)+list(dev_labels))\n",
    "\n",
    "#make predictions\n",
    "label_predictions=logReg.predict(test_sentences_mean_emb)\n",
    "np.savetxt('logreg_bov_y_test_sst.txt', label_predictions, fmt= '%d')\n"
   ]
  },
  {
   "cell_type": "code",
   "execution_count": 109,
   "metadata": {},
   "outputs": [
    {
     "name": "stdout",
     "output_type": "stream",
     "text": [
      "Results for idf-weighted BoW: \n",
      " Best value for nb of leaves: 25 \n",
      " Dev accuracy: 0.3905540417801998\n",
      "Results for idf-weighted BoW: \n",
      " Best value for nb of leaves: 35 \n",
      " Dev accuracy: 0.3678474114441417\n"
     ]
    }
   ],
   "source": [
    "# BONUS!\n",
    "# 5 - Try to improve performance with another classifier\n",
    "#     Attach the output file \"XXX_bov_y_test_sst.txt\" to your deliverable (where XXX = the name of the classifier)\n",
    "\n",
    "# I try LGBM classifier\n",
    "\n",
    "from lightgbm import LGBMClassifier\n",
    "\n",
    "#idf weighted embeddings\n",
    "train_acc,dev_acc=[],[]\n",
    "num_leaves_values = np.arange(15,40,5)\n",
    "\n",
    "for leaves in num_leaves_values:\n",
    "    clf = LGBMClassifier(boosting_type='gbdt', learning_rate=0.1, n_estimators=100,num_leaves=leaves)\n",
    "    clf.fit(train_sentences_emb, train_labels)\n",
    "    train_acc.append(clf.score(train_sentences_emb, train_labels))\n",
    "    dev_acc.append(clf.score(dev_sentences_emb, dev_labels))\n",
    "\n",
    "best_nb_leaves=num_leaves_values[np.argmax(dev_acc)]\n",
    "best_train_acc=train_acc[np.argmax(dev_acc)]\n",
    "best_dev_acc=max(dev_acc)\n",
    "\n",
    "print(\"Results for idf-weighted BoW: \\n\",\"Best value for nb of leaves:\",best_nb_leaves,'\\n Dev accuracy:',best_dev_acc)\n",
    "\n",
    "#mean of words embeddings\n",
    "train_acc,dev_acc=[],[]\n",
    "\n",
    "for leaves in num_leaves_values:\n",
    "    clf = LGBMClassifier(boosting_type='gbdt', learning_rate=0.1, n_estimators=100,num_leaves=leaves)\n",
    "    clf.fit(train_sentences_mean_emb, train_labels)\n",
    "    train_acc.append(clf.score(train_sentences_mean_emb, train_labels))\n",
    "    dev_acc.append(clf.score(dev_sentences_mean_emb, dev_labels))\n",
    "\n",
    "best_nb_leaves=num_leaves_values[np.argmax(dev_acc)]\n",
    "best_train_acc=train_acc[np.argmax(dev_acc)]\n",
    "best_dev_acc=max(dev_acc)\n",
    "\n",
    "print(\"Results for idf-weighted BoW: \\n\",\"Best value for nb of leaves:\",best_nb_leaves,'\\n Dev accuracy:',best_dev_acc)"
   ]
  },
  {
   "cell_type": "code",
   "execution_count": 111,
   "metadata": {},
   "outputs": [],
   "source": [
    "#train our best model on all the data\n",
    "clf = LGBMClassifier(boosting_type='gbdt', learning_rate=0.1, n_estimators=100,num_leaves=leaves)\n",
    "clf.fit(train_sentences_mean_emb+dev_sentences_mean_emb, list(train_labels)+list(dev_labels))\n",
    "\n",
    "#make predictions\n",
    "label_predictions=clf.predict(test_sentences_mean_emb)\n",
    "np.savetxt('lgbm_bov_y_test_sst.txt', label_predictions, fmt= '%d')"
   ]
  },
  {
   "cell_type": "markdown",
   "metadata": {},
   "source": [
    "# 4) Sentence classification with LSTMs in Keras"
   ]
  },
  {
   "cell_type": "markdown",
   "metadata": {},
   "source": [
    "## 4.1 - Preprocessing"
   ]
  },
  {
   "cell_type": "code",
   "execution_count": 9,
   "metadata": {},
   "outputs": [],
   "source": [
    "# 1 - Using the same dataset, transform text to integers using tf.keras.preprocessing.text.one_hot function\n",
    "#     https://keras.io/preprocessing/text/\n",
    "from keras.preprocessing.text import one_hot\n",
    "\n",
    "nb_words = 10000\n",
    "train_onehot = [one_hot(sentence, nb_words) for sentence in train_sentences]\n",
    "dev_onehot = [one_hot(sentence, nb_words) for sentence in dev_sentences]\n",
    "test_onehot = [one_hot(sentence, nb_words) for sentence in test_sentences]"
   ]
  },
  {
   "cell_type": "markdown",
   "metadata": {},
   "source": [
    "**Padding input data**\n",
    "\n",
    "Models in Keras (and elsewhere) take batches of sentences of the same length as input. It is because Deep Learning framework have been designed to handle well Tensors, which are particularly suited for fast computation on the GPU.\n",
    "\n",
    "Since sentences have different sizes, we \"pad\" them. That is, we add dummy \"padding\" tokens so that they all have the same length.\n",
    "\n",
    "The input to a Keras model thus has this size : (batchsize, maxseqlen) where maxseqlen is the maximum length of a sentence in the batch."
   ]
  },
  {
   "cell_type": "code",
   "execution_count": 10,
   "metadata": {},
   "outputs": [],
   "source": [
    "# 2 - Pad your sequences using tf.keras.preprocessing.sequence.pad_sequences\n",
    "#     https://keras.io/preprocessing/sequence/\n",
    "\n",
    "from keras.preprocessing.sequence import pad_sequences\n",
    "from keras.utils import to_categorical\n",
    "\n",
    "maxseqlen = max(map(len, train_onehot + dev_onehot + test_onehot))\n",
    "x_train = pad_sequences(train_onehot, padding = 'post', truncating = 'post', maxlen = maxseqlen)\n",
    "x_dev = pad_sequences(dev_onehot, padding = 'post', truncating = 'post', maxlen = maxseqlen)\n",
    "x_test = pad_sequences(test_onehot, padding = 'post', truncating = 'post', maxlen = maxseqlen)\n",
    "\n",
    "y_train = to_categorical(train_labels)\n",
    "y_dev = to_categorical(dev_labels)"
   ]
  },
  {
   "cell_type": "markdown",
   "metadata": {},
   "source": [
    "## 4.2 - Design and train your model"
   ]
  },
  {
   "cell_type": "code",
   "execution_count": 33,
   "metadata": {},
   "outputs": [],
   "source": [
    "# 3 - Design your encoder + classifier using tensorflow.keras.layers\n",
    "#     In Keras, Torch and other deep learning framework, we create a \"container\" which is the Sequential() module.\n",
    "#     Then we add components to this container : the lookup-table, the LSTM, the classifier etc.\n",
    "#     All of these components are contained in the Sequential() and are trained together.\n",
    "#     Note that the embedding layer is initialized randomly and does not take advantage of pre-trained word embeddings.\n",
    "from tensorflow.keras.models import Sequential\n",
    "from tensorflow.keras.layers import Embedding, LSTM, Dense, Activation\n",
    "\n",
    "embed_dim  = 100  # word embedding dimension\n",
    "nhid       = 64  # number of hidden units in the LSTM\n",
    "vocab_size = 10000  # size of the vocabulary\n",
    "n_classes  = 5\n",
    "\n",
    "model = Sequential()\n",
    "model.add(Embedding(vocab_size, embed_dim))\n",
    "model.add(LSTM(nhid, dropout=0.2, recurrent_dropout=0.2))\n",
    "model.add(Dense(n_classes, activation='softmax'))"
   ]
  },
  {
   "cell_type": "code",
   "execution_count": 34,
   "metadata": {
    "jupyter": {
     "outputs_hidden": false
    }
   },
   "outputs": [
    {
     "name": "stdout",
     "output_type": "stream",
     "text": [
      "Model: \"sequential_4\"\n",
      "_________________________________________________________________\n",
      "Layer (type)                 Output Shape              Param #   \n",
      "=================================================================\n",
      "embedding_4 (Embedding)      (None, None, 100)         1000000   \n",
      "_________________________________________________________________\n",
      "lstm_4 (LSTM)                (None, 64)                42240     \n",
      "_________________________________________________________________\n",
      "dense_4 (Dense)              (None, 5)                 325       \n",
      "=================================================================\n",
      "Total params: 1,042,565\n",
      "Trainable params: 1,042,565\n",
      "Non-trainable params: 0\n",
      "_________________________________________________________________\n",
      "None\n"
     ]
    }
   ],
   "source": [
    "# 4 - Define your loss/optimizer/metrics\n",
    "from keras import optimizers\n",
    "\n",
    "loss_classif     =  'categorical_crossentropy' # find the right loss for multi-class classification\n",
    "opt      =  'rmsprop' #'adam' # find the right optimizer\n",
    "metrics_classif  =  ['accuracy']\n",
    "\n",
    "# Observe how easy (but blackboxed) this is in Keras\n",
    "model.compile(loss=loss_classif,\n",
    "              optimizer=opt,\n",
    "              metrics=metrics_classif)\n",
    "print(model.summary())"
   ]
  },
  {
   "cell_type": "code",
   "execution_count": 41,
   "metadata": {},
   "outputs": [
    {
     "name": "stdout",
     "output_type": "stream",
     "text": [
      "WARNING:tensorflow:The `nb_epoch` argument in `fit` has been renamed `epochs`.\n",
      "Train on 8544 samples, validate on 1101 samples\n",
      "Epoch 1/10\n",
      "8544/8544 [==============================] - 31s 4ms/sample - loss: 1.4531 - accuracy: 0.3512 - val_loss: 1.4964 - val_accuracy: 0.3315\n",
      "Epoch 2/10\n",
      "8544/8544 [==============================] - 27s 3ms/sample - loss: 1.4338 - accuracy: 0.3743 - val_loss: 1.4805 - val_accuracy: 0.3678\n",
      "Epoch 3/10\n",
      "8544/8544 [==============================] - 27s 3ms/sample - loss: 1.4241 - accuracy: 0.3944 - val_loss: 1.4799 - val_accuracy: 0.3869\n",
      "Epoch 4/10\n",
      "8544/8544 [==============================] - 30s 3ms/sample - loss: 1.4159 - accuracy: 0.3929 - val_loss: 1.4665 - val_accuracy: 0.3833\n",
      "Epoch 5/10\n",
      "8544/8544 [==============================] - 31s 4ms/sample - loss: 1.3883 - accuracy: 0.4086 - val_loss: 1.4340 - val_accuracy: 0.3315\n",
      "Epoch 6/10\n",
      "8544/8544 [==============================] - 25s 3ms/sample - loss: 1.3558 - accuracy: 0.4263 - val_loss: 1.4417 - val_accuracy: 0.3915\n",
      "Epoch 7/10\n",
      "8544/8544 [==============================] - 24s 3ms/sample - loss: 1.3304 - accuracy: 0.4375 - val_loss: 1.4476 - val_accuracy: 0.3769\n",
      "Epoch 8/10\n",
      "8544/8544 [==============================] - 25s 3ms/sample - loss: 1.3022 - accuracy: 0.4464 - val_loss: 1.4703 - val_accuracy: 0.3615\n",
      "Epoch 9/10\n",
      "8544/8544 [==============================] - 24s 3ms/sample - loss: 1.2652 - accuracy: 0.4581 - val_loss: 1.5111 - val_accuracy: 0.3815\n",
      "Epoch 10/10\n",
      "8544/8544 [==============================] - 24s 3ms/sample - loss: 1.2377 - accuracy: 0.4659 - val_loss: 1.4130 - val_accuracy: 0.3887\n"
     ]
    }
   ],
   "source": [
    "# 5 - Train your model and find the best hyperparameters for your dev set\n",
    "#     you will be evaluated on the quality of your predictions on the test set\n",
    "#     Keras expects y_train and y_dev to be one-hot encodings of the labels, i.e. with shape=(n_samples, 5)\n",
    "\n",
    "\n",
    "# ADAPT CODE BELOW\n",
    "bs = 16\n",
    "n_epochs = 10\n",
    "\n",
    "history = model.fit(x_train, y_train, batch_size=bs, nb_epoch=n_epochs, validation_data=(x_dev, y_dev))"
   ]
  },
  {
   "cell_type": "code",
   "execution_count": 43,
   "metadata": {},
   "outputs": [
    {
     "data": {
      "text/plain": [
       "Text(0, 0.5, 'Accuracy')"
      ]
     },
     "execution_count": 43,
     "metadata": {},
     "output_type": "execute_result"
    },
    {
     "data": {
      "image/png": "[encoded data removed]",
      "text/plain": [
       "<Figure size 432x288 with 1 Axes>"
      ]
     },
     "metadata": {
      "needs_background": "light"
     },
     "output_type": "display_data"
    }
   ],
   "source": [
    "# 6 - Generate your predictions on the test set using model.predict(x_test)\n",
    "#     https://keras.io/models/model/\n",
    "#     Log your predictions in a file (one line = one integer: 0,1,2,3,4)\n",
    "#     Attach the output file \"logreg_lstm_y_test_sst.txt\" to your deliverable.\n",
    "\n",
    "#we use the last model because it was the one with the lowest validation loss\n",
    "y_test = model.predict(x_test)\n",
    "text = \"\\n\".join(y_test.max(axis=1).astype(str))\n",
    "file = open(\"logreg_lstm_y_test_sst.txt\", \"w\")\n",
    "file.write(text)\n",
    "file.close()\n",
    "\n",
    "import matplotlib.pyplot as plt\n",
    "\n",
    "plt.plot(history.history[\"accuracy\"], label=\"Train accuracy\")\n",
    "plt.plot(history.history[\"val_accuracy\"], label=\"Dev accuracy\")\n",
    "plt.legend()\n",
    "plt.xlabel(\"Epoch\")\n",
    "plt.ylabel(\"Accuracy\")"
   ]
  },
  {
   "cell_type": "markdown",
   "metadata": {},
   "source": [
    "## 4.3 - innovate !"
   ]
  },
  {
   "cell_type": "code",
   "execution_count": 14,
   "metadata": {},
   "outputs": [
    {
     "name": "stdout",
     "output_type": "stream",
     "text": [
      "Loaded 10000 pretrained word vectors\n",
      "Model: \"sequential_3\"\n",
      "_________________________________________________________________\n",
      "Layer (type)                 Output Shape              Param #   \n",
      "=================================================================\n",
      "embedding_3 (Embedding)      (None, None, 300)         3000000   \n",
      "_________________________________________________________________\n",
      "lstm_3 (LSTM)                (None, 64)                93440     \n",
      "_________________________________________________________________\n",
      "dense_3 (Dense)              (None, 5)                 325       \n",
      "=================================================================\n",
      "Total params: 3,093,765\n",
      "Trainable params: 93,765\n",
      "Non-trainable params: 3,000,000\n",
      "_________________________________________________________________\n",
      "None\n",
      "WARNING:tensorflow:The `nb_epoch` argument in `fit` has been renamed `epochs`.\n",
      "Train on 8544 samples, validate on 1101 samples\n",
      "Epoch 1/5\n",
      "8544/8544 [==============================] - 38s 4ms/sample - loss: 1.5752 - accuracy: 0.2706 - val_loss: 1.5722 - val_accuracy: 0.2625\n",
      "Epoch 2/5\n",
      "8544/8544 [==============================] - 31s 4ms/sample - loss: 1.5700 - accuracy: 0.2622 - val_loss: 1.5727 - val_accuracy: 0.2534\n",
      "Epoch 3/5\n",
      "8544/8544 [==============================] - 32s 4ms/sample - loss: 1.5696 - accuracy: 0.2646 - val_loss: 1.5741 - val_accuracy: 0.2534\n",
      "Epoch 4/5\n",
      "8544/8544 [==============================] - 29s 3ms/sample - loss: 1.5690 - accuracy: 0.2722 - val_loss: 1.5786 - val_accuracy: 0.2534\n",
      "Epoch 5/5\n",
      "8544/8544 [==============================] - 29s 3ms/sample - loss: 1.5690 - accuracy: 0.2658 - val_loss: 1.5734 - val_accuracy: 0.2534\n"
     ]
    }
   ],
   "source": [
    "# 7 - Open question: find a model that is better on your dev set\n",
    "#     (e.g: use a 1D ConvNet, use a better classifier, pretrain your lookup tables ..)\n",
    "#     you will get point if the results on the test set are better: be careful of not overfitting your dev set too much..\n",
    "#     Attach the output file \"XXX_XXX_y_test_sst.txt\" to your deliverable.\n",
    "\n",
    "# I tried to pretrain the lookup table, but the performance was bad\n",
    "\n",
    "#build embedding matrix with the embeddings from word2vec\n",
    "word2vec = Word2Vec(en_embeddings_path, vocab_size=10000)\n",
    "\n",
    "embedding_matrix = np.zeros((10000, 300))\n",
    "for i, emb in enumerate(word2vec.embeddings):\n",
    "    embedding_matrix[i] = emb\n",
    "    \n",
    "#use the same model as before, with pretrained vectors\n",
    "from tensorflow.keras.models import Sequential\n",
    "from tensorflow.keras.layers import Embedding, LSTM, Dense, Activation\n",
    "\n",
    "embed_dim  = 300  # word embedding dimension\n",
    "nhid       = 64  # number of hidden units in the LSTM\n",
    "vocab_size = 10000  # size of the vocabulary\n",
    "n_classes  = 5\n",
    "\n",
    "model = Sequential()\n",
    "model.add(Embedding(vocab_size,embed_dim,weights=[embedding_matrix],trainable=False))\n",
    "model.add(LSTM(nhid, dropout=0.2, recurrent_dropout=0.2))\n",
    "model.add(Dense(n_classes, activation='softmax'))\n",
    "\n",
    "# Defineloss/optimizer/metrics\n",
    "from keras import optimizers\n",
    "\n",
    "loss_classif     =  'categorical_crossentropy' \n",
    "opt      =  'adam'\n",
    "metrics_classif  =  ['accuracy']\n",
    "\n",
    "# Compile\n",
    "model.compile(loss=loss_classif,\n",
    "              optimizer=opt,\n",
    "              metrics=metrics_classif)\n",
    "print(model.summary())\n",
    "\n",
    "#train model\n",
    "bs = 16\n",
    "n_epochs = 5\n",
    "\n",
    "history = model.fit(x_train, y_train, batch_size=bs, nb_epoch=n_epochs, validation_data=(x_dev, y_dev))\n",
    "\n",
    "#predictions\n",
    "y_test = model.predict(x_test)\n",
    "text = \"\\n\".join(y_test.max(axis=1).astype(str))\n",
    "file = open(\"pretrained_lstm_y_test_sst.txt\", \"w\")\n",
    "file.write(text)\n",
    "file.close()"
   ]
  }
 ],
 "metadata": {
  "kernelspec": {
   "display_name": "Python 3",
   "language": "python",
   "name": "python3"
  },
  "language_info": {
   "codemirror_mode": {
    "name": "ipython",
    "version": 3
   },
   "file_extension": ".py",
   "mimetype": "text/x-python",
   "name": "python",
   "nbconvert_exporter": "python",
   "pygments_lexer": "ipython3",
   "version": "3.7.3"
  }
 },
 "nbformat": 4,
 "nbformat_minor": 4
}
